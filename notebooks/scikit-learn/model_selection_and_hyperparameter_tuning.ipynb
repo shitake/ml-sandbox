{
 "cells": [
  {
   "cell_type": "markdown",
   "metadata": {},
   "source": [
    "# KFold"
   ]
  },
  {
   "cell_type": "code",
   "execution_count": 2,
   "metadata": {},
   "outputs": [
    {
     "name": "stdout",
     "output_type": "stream",
     "text": [
      "Fold:  1, Class dist.: [45 45 45], Acc train/val: 0.985/1.000\n",
      "Fold:  2, Class dist.: [45 45 45], Acc train/val: 0.985/0.933\n",
      "Fold:  3, Class dist.: [45 45 45], Acc train/val: 0.985/1.000\n",
      "Fold:  4, Class dist.: [45 45 45], Acc train/val: 0.985/1.000\n",
      "Fold:  5, Class dist.: [45 45 45], Acc train/val: 0.985/1.000\n",
      "Fold:  6, Class dist.: [45 45 45], Acc train/val: 0.993/0.933\n",
      "Fold:  7, Class dist.: [45 45 45], Acc train/val: 0.993/0.933\n",
      "Fold:  8, Class dist.: [45 45 45], Acc train/val: 0.978/1.000\n",
      "Fold:  9, Class dist.: [45 45 45], Acc train/val: 0.993/1.000\n",
      "Fold: 10, Class dist.: [45 45 45], Acc train/val: 0.978/1.000\n"
     ]
    }
   ],
   "source": [
    "import numpy as np\n",
    "from sklearn import svm, datasets\n",
    "from sklearn.model_selection import StratifiedKFold\n",
    "\n",
    "# Dataset\n",
    "iris = datasets.load_iris()\n",
    "X = iris.data\n",
    "y = iris.target\n",
    "\n",
    "svc = svm.SVC()\n",
    "skf = StratifiedKFold(n_splits=10, random_state=1)\n",
    "\n",
    "scores_train = []\n",
    "scores_val = []\n",
    "for k, (train_idx, val_idx) in enumerate(skf.split(X, y)):\n",
    "    svc.fit(X[train_idx], y[train_idx])\n",
    "    \n",
    "    score_train = svc.score(X[train_idx], y[train_idx])\n",
    "    scores_train.append(score_train)\n",
    "    \n",
    "    score_val = svc.score(X[val_idx], y[val_idx])\n",
    "    scores_val.append(score_val)\n",
    "    \n",
    "    print(\"Fold: %2d, Class dist.: %s, Acc train/val: %.3f/%.3f\" % (k+1, np.bincount(y[train_idx]), score_train, score_val))"
   ]
  },
  {
   "cell_type": "markdown",
   "metadata": {},
   "source": [
    "# GridSearchCV"
   ]
  },
  {
   "cell_type": "code",
   "execution_count": 7,
   "metadata": {},
   "outputs": [
    {
     "name": "stdout",
     "output_type": "stream",
     "text": [
      "0.98\n",
      "{'mean_fit_time': array([0.00269082, 0.00134945, 0.0004746 , 0.0003952 ]),\n",
      " 'mean_score_time': array([0.00091214, 0.00044131, 0.00020807, 0.0001796 ]),\n",
      " 'mean_test_score': array([0.97333333, 0.98      , 0.98      , 0.97333333]),\n",
      " 'mean_train_score': array([0.98814815, 0.98592593, 0.98      , 0.97703704]),\n",
      " 'param_C': masked_array(data=[1, 1, 10, 10],\n",
      "             mask=[False, False, False, False],\n",
      "       fill_value='?',\n",
      "            dtype=object),\n",
      " 'param_kernel': masked_array(data=['linear', 'rbf', 'linear', 'rbf'],\n",
      "             mask=[False, False, False, False],\n",
      "       fill_value='?',\n",
      "            dtype=object),\n",
      " 'params': [{'C': 1, 'kernel': 'linear'},\n",
      "            {'C': 1, 'kernel': 'rbf'},\n",
      "            {'C': 10, 'kernel': 'linear'},\n",
      "            {'C': 10, 'kernel': 'rbf'}],\n",
      " 'rank_test_score': array([3, 1, 1, 3], dtype=int32),\n",
      " 'split0_test_score': array([1., 1., 1., 1.]),\n",
      " 'split0_train_score': array([0.98518519, 0.98518519, 0.97777778, 0.97037037]),\n",
      " 'split1_test_score': array([0.93333333, 0.93333333, 1.        , 0.93333333]),\n",
      " 'split1_train_score': array([0.97777778, 0.98518519, 0.97037037, 0.97777778]),\n",
      " 'split2_test_score': array([1., 1., 1., 1.]),\n",
      " 'split2_train_score': array([0.98518519, 0.98518519, 0.97777778, 0.97037037]),\n",
      " 'split3_test_score': array([1., 1., 1., 1.]),\n",
      " 'split3_train_score': array([0.98518519, 0.98518519, 0.97037037, 0.97037037]),\n",
      " 'split4_test_score': array([0.86666667, 1.        , 0.86666667, 0.86666667]),\n",
      " 'split4_train_score': array([0.99259259, 0.98518519, 0.98518519, 0.98518519]),\n",
      " 'split5_test_score': array([1.        , 0.93333333, 1.        , 1.        ]),\n",
      " 'split5_train_score': array([0.99259259, 0.99259259, 0.98518519, 0.99259259]),\n",
      " 'split6_test_score': array([0.93333333, 0.93333333, 0.93333333, 0.93333333]),\n",
      " 'split6_train_score': array([0.99259259, 0.99259259, 0.99259259, 0.97777778]),\n",
      " 'split7_test_score': array([1., 1., 1., 1.]),\n",
      " 'split7_train_score': array([0.99259259, 0.97777778, 0.98518519, 0.98518519]),\n",
      " 'split8_test_score': array([1., 1., 1., 1.]),\n",
      " 'split8_train_score': array([0.99259259, 0.99259259, 0.97777778, 0.97037037]),\n",
      " 'split9_test_score': array([1., 1., 1., 1.]),\n",
      " 'split9_train_score': array([0.98518519, 0.97777778, 0.97777778, 0.97037037]),\n",
      " 'std_fit_time': array([3.56201609e-04, 9.23415280e-04, 1.16965501e-04, 1.96683623e-05]),\n",
      " 'std_score_time': array([1.19650492e-04, 2.38106523e-04, 3.16931836e-05, 7.28410706e-06]),\n",
      " 'std_test_score': array([0.04422166, 0.0305505 , 0.04268749, 0.04422166]),\n",
      " 'std_train_score': array([0.00491352, 0.00518519, 0.00666667, 0.00773356])}\n"
     ]
    }
   ],
   "source": [
    "from pprint import pprint\n",
    "from sklearn import svm, datasets\n",
    "from sklearn.model_selection import GridSearchCV\n",
    "\n",
    "# Dataset\n",
    "iris = datasets.load_iris()\n",
    "\n",
    "# Classifier\n",
    "svc = svm.SVC()\n",
    "\n",
    "# GridSearchCV\n",
    "parameters = {\n",
    "    \"kernel\": (\"linear\", \"rbf\"),\n",
    "    \"C\": [1, 10],\n",
    "}\n",
    "gs = GridSearchCV(estimator=svc,\n",
    "                                  param_grid=parameters,\n",
    "                                  scoring=\"accuracy\",\n",
    "                                  cv=10,  # KFold, データに合わせて自動で StratifiedKFold を使用したりしてくれる\n",
    "                                  n_jobs=-1,  # 並列ジョブ数\n",
    "                                  return_train_score=True)\n",
    "\n",
    "gs.fit(iris.data, iris.target)\n",
    "\n",
    "pprint(gs.best_score_)\n",
    "pprint(gs.cv_results_)"
   ]
  }
 ],
 "metadata": {
  "kernelspec": {
   "display_name": "Python 3",
   "language": "python",
   "name": "python3"
  },
  "language_info": {
   "codemirror_mode": {
    "name": "ipython",
    "version": 3
   },
   "file_extension": ".py",
   "mimetype": "text/x-python",
   "name": "python",
   "nbconvert_exporter": "python",
   "pygments_lexer": "ipython3",
   "version": "3.6.6"
  }
 },
 "nbformat": 4,
 "nbformat_minor": 2
}
