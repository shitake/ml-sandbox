{
 "cells": [
  {
   "cell_type": "markdown",
   "metadata": {},
   "source": [
    "[How to Develop Word Embeddings in Python with Gensim](https://machinelearningmastery.com/develop-word-embeddings-python-gensim/)"
   ]
  },
  {
   "cell_type": "markdown",
   "metadata": {},
   "source": [
    "# Import modules"
   ]
  },
  {
   "cell_type": "code",
   "execution_count": 2,
   "metadata": {},
   "outputs": [],
   "source": [
    "from gensim.models import KeyedVectors\n",
    "from gensim.models import Word2Vec\n",
    "from matplotlib import pyplot as plt\n",
    "import os\n",
    "import pandas as pd\n",
    "from sklearn.decomposition import PCA\n",
    "import time\n",
    "import warnings\n",
    "warnings.filterwarnings('ignore')"
   ]
  },
  {
   "cell_type": "markdown",
   "metadata": {},
   "source": [
    "# Utils"
   ]
  },
  {
   "cell_type": "code",
   "execution_count": 3,
   "metadata": {},
   "outputs": [],
   "source": [
    "def display_formatted_time(elapsed_time, msg=\"\"):\n",
    "    minutes, seconds = map(int, divmod(elapsed_time, 60));\n",
    "    print(\"Elapsed time - {0}: {1}min {2}s\".format(msg, minutes, seconds))"
   ]
  },
  {
   "cell_type": "markdown",
   "metadata": {},
   "source": [
    "# Word2Vec"
   ]
  },
  {
   "cell_type": "code",
   "execution_count": 4,
   "metadata": {},
   "outputs": [],
   "source": [
    "sentences = [\n",
    "    ['this', 'is', 'the', 'first', 'sentence', 'for', 'word2vec'],\n",
    "    ['this', 'is', 'the', 'second', 'sentence'],\n",
    "    ['yet', 'another', 'sentence'],\n",
    "    ['one', 'more', 'sentence'],\n",
    "    ['and', 'the', 'final', 'sentence']\n",
    "]"
   ]
  },
  {
   "cell_type": "markdown",
   "metadata": {},
   "source": [
    "## Train model"
   ]
  },
  {
   "cell_type": "code",
   "execution_count": 5,
   "metadata": {},
   "outputs": [],
   "source": [
    "model = Word2Vec(sentences, min_count=1)"
   ]
  },
  {
   "cell_type": "code",
   "execution_count": 6,
   "metadata": {},
   "outputs": [
    {
     "name": "stdout",
     "output_type": "stream",
     "text": [
      "Word2Vec(vocab=14, size=100, alpha=0.025)\n"
     ]
    }
   ],
   "source": [
    "print(model)"
   ]
  },
  {
   "cell_type": "code",
   "execution_count": 7,
   "metadata": {},
   "outputs": [
    {
     "data": {
      "text/plain": [
       "['this',\n",
       " 'is',\n",
       " 'the',\n",
       " 'first',\n",
       " 'sentence',\n",
       " 'for',\n",
       " 'word2vec',\n",
       " 'second',\n",
       " 'yet',\n",
       " 'another',\n",
       " 'one',\n",
       " 'more',\n",
       " 'and',\n",
       " 'final']"
      ]
     },
     "execution_count": 7,
     "metadata": {},
     "output_type": "execute_result"
    }
   ],
   "source": [
    "words = list(model.wv.vocab)\n",
    "words"
   ]
  },
  {
   "cell_type": "code",
   "execution_count": 8,
   "metadata": {},
   "outputs": [
    {
     "data": {
      "text/plain": [
       "array([ 4.66386415e-03, -8.32563848e-04, -1.86067051e-03,  1.32901687e-03,\n",
       "       -4.43662470e-03, -1.34897558e-03, -4.07466386e-03,  3.02052451e-03,\n",
       "       -2.18390673e-03, -1.25811982e-03, -1.14980596e-03,  4.32746856e-05,\n",
       "        5.88242721e-04,  3.86468507e-03, -1.70034019e-03, -3.35471542e-03,\n",
       "        3.46702733e-03,  1.70912000e-03, -3.95542104e-03,  3.98231251e-03,\n",
       "       -2.75811320e-03, -9.84012033e-04, -4.17892734e-04,  9.10954550e-04,\n",
       "       -2.26165075e-03,  1.66587031e-03,  1.38604664e-03,  3.47701297e-03,\n",
       "        2.55113491e-03,  4.51051816e-03, -7.79352995e-05, -2.71662371e-03,\n",
       "        1.47807761e-04,  2.76513468e-03, -6.53258176e-05,  2.41959421e-03,\n",
       "        6.42580446e-04, -9.37277742e-04, -3.52227199e-03,  1.46761991e-03,\n",
       "        4.17890167e-03, -1.94764871e-03, -3.88791435e-03,  1.07429246e-03,\n",
       "        1.15943560e-03,  4.66595218e-03, -1.31311535e-03,  4.85533150e-03,\n",
       "        3.19738523e-03, -3.39813344e-03,  1.22922251e-03,  4.90010018e-03,\n",
       "       -2.30748672e-03, -1.12745585e-03, -1.72552318e-04, -1.88892463e-03,\n",
       "       -3.79206939e-03, -1.08408916e-04, -6.72082417e-04,  4.11767141e-05,\n",
       "       -4.53528389e-03, -2.43400270e-03,  3.42688087e-04,  4.03815787e-03,\n",
       "        1.77103269e-03,  1.05542503e-03,  3.94795043e-03, -4.69810236e-03,\n",
       "        2.67148926e-03, -2.47261650e-03,  2.78027495e-03,  1.35856867e-03,\n",
       "       -1.19045866e-03,  4.19129292e-03, -3.55040596e-04,  4.36971430e-03,\n",
       "        4.08321014e-03, -3.61102610e-03,  3.17918556e-03, -2.73027574e-03,\n",
       "        2.93711200e-03, -9.55127063e-04,  1.74758956e-03, -3.36299709e-04,\n",
       "        2.93884240e-03, -2.79488158e-03, -4.90938488e-04, -7.45181402e-04,\n",
       "       -2.71315174e-03, -6.28696929e-04,  3.11524986e-04, -3.53638967e-03,\n",
       "        1.40598946e-04, -3.53191397e-03, -7.74726272e-04,  3.42382654e-03,\n",
       "        3.15574324e-03,  3.90451343e-04, -2.81572575e-03, -1.41773792e-03],\n",
       "      dtype=float32)"
      ]
     },
     "execution_count": 8,
     "metadata": {},
     "output_type": "execute_result"
    }
   ],
   "source": [
    "model[\"sentence\"]"
   ]
  },
  {
   "cell_type": "code",
   "execution_count": 9,
   "metadata": {},
   "outputs": [
    {
     "data": {
      "text/plain": [
       "{'max_final_vocab': None,\n",
       " 'callbacks': (),\n",
       " 'load': <function gensim.utils.call_on_class_only(*args, **kwargs)>,\n",
       " 'wv': <gensim.models.keyedvectors.Word2VecKeyedVectors at 0x11bb38eb8>,\n",
       " 'vocabulary': <gensim.models.word2vec.Word2VecVocab at 0x11bb38e48>,\n",
       " 'trainables': <gensim.models.word2vec.Word2VecTrainables at 0x11bb38f28>,\n",
       " 'sg': 0,\n",
       " 'alpha': 0.025,\n",
       " 'window': 5,\n",
       " 'random': <mtrand.RandomState at 0x11bb88ee8>,\n",
       " 'min_alpha': 0.0001,\n",
       " 'hs': 0,\n",
       " 'negative': 5,\n",
       " 'ns_exponent': 0.75,\n",
       " 'cbow_mean': 1,\n",
       " 'compute_loss': False,\n",
       " 'running_training_loss': 0.0,\n",
       " 'min_alpha_yet_reached': 0.025,\n",
       " 'corpus_count': 5,\n",
       " 'vector_size': 100,\n",
       " 'workers': 3,\n",
       " 'epochs': 5,\n",
       " 'train_count': 1,\n",
       " 'total_train_time': 0.002104344079270959,\n",
       " 'batch_words': 10000,\n",
       " 'model_trimmed_post_training': False}"
      ]
     },
     "execution_count": 9,
     "metadata": {},
     "output_type": "execute_result"
    }
   ],
   "source": [
    "model.__dict__"
   ]
  },
  {
   "cell_type": "markdown",
   "metadata": {},
   "source": [
    "## Save model"
   ]
  },
  {
   "cell_type": "code",
   "execution_count": 14,
   "metadata": {},
   "outputs": [],
   "source": [
    "model.save(\"../models/word2vec/model.bin\")"
   ]
  },
  {
   "cell_type": "markdown",
   "metadata": {},
   "source": [
    "## Load model"
   ]
  },
  {
   "cell_type": "code",
   "execution_count": 11,
   "metadata": {},
   "outputs": [],
   "source": [
    "new_model = Word2Vec.load(\"../models/word2vec/model.bin\")"
   ]
  },
  {
   "cell_type": "code",
   "execution_count": 12,
   "metadata": {},
   "outputs": [
    {
     "name": "stdout",
     "output_type": "stream",
     "text": [
      "Word2Vec(vocab=14, size=100, alpha=0.025)\n"
     ]
    }
   ],
   "source": [
    "print(new_model)"
   ]
  },
  {
   "cell_type": "markdown",
   "metadata": {},
   "source": [
    "##  Visualize"
   ]
  },
  {
   "cell_type": "code",
   "execution_count": 13,
   "metadata": {},
   "outputs": [
    {
     "data": {
      "text/plain": [
       "(14, 100)"
      ]
     },
     "execution_count": 13,
     "metadata": {},
     "output_type": "execute_result"
    }
   ],
   "source": [
    "X = model[model.wv.vocab]\n",
    "X.shape"
   ]
  },
  {
   "cell_type": "markdown",
   "metadata": {},
   "source": [
    "2次元座標上にプロットするため次元圧縮する"
   ]
  },
  {
   "cell_type": "code",
   "execution_count": 14,
   "metadata": {},
   "outputs": [],
   "source": [
    "from sklearn.decomposition import PCA\n",
    "from matplotlib import pyplot as plt"
   ]
  },
  {
   "cell_type": "code",
   "execution_count": 15,
   "metadata": {},
   "outputs": [],
   "source": [
    "pca = PCA(n_components=2)\n",
    "result = pca.fit_transform(X)"
   ]
  },
  {
   "cell_type": "code",
   "execution_count": 16,
   "metadata": {},
   "outputs": [
    {
     "data": {
      "image/png": "[encoded data removed]",
      "text/plain": [
       "<Figure size 720x576 with 1 Axes>"
      ]
     },
     "metadata": {},
     "output_type": "display_data"
    }
   ],
   "source": [
    "plt.figure(figsize=(10, 8))\n",
    "plt.scatter(result[:, 0], result[:, 1])\n",
    "words = list(model.wv.vocab)\n",
    "for i, word in enumerate(words):\n",
    "    plt.annotate(word, xy=(result[i, 0], result[i, 1]))\n",
    "plt.show()"
   ]
  },
  {
   "cell_type": "markdown",
   "metadata": {},
   "source": [
    "# Load Google's Word2Vec Embedding"
   ]
  },
  {
   "cell_type": "markdown",
   "metadata": {},
   "source": [
    "[word2vec - Google Code](https://code.google.com/archive/p/word2vec/)\n",
    "<br>\n",
    "モデルのダイレクトリンク https://drive.google.com/file/d/0B7XkCwpI5KDYNlNUTTlSS21pQmM/edit?usp=sharing"
   ]
  },
  {
   "cell_type": "code",
   "execution_count": 17,
   "metadata": {},
   "outputs": [],
   "source": [
    "from gensim.models import KeyedVectors"
   ]
  },
  {
   "cell_type": "code",
   "execution_count": 18,
   "metadata": {},
   "outputs": [
    {
     "name": "stdout",
     "output_type": "stream",
     "text": [
      "Elapsed time - : 0min 38s\n"
     ]
    }
   ],
   "source": [
    "since = time.time()\n",
    "\n",
    "filename = \"GoogleNews-vectors-negative300.bin\"\n",
    "model = KeyedVectors.load_word2vec_format(os.path.join(\"../models/word2vec\", filename), binary=True)\n",
    "\n",
    "display_formatted_time(time.time() - since)"
   ]
  },
  {
   "cell_type": "code",
   "execution_count": 19,
   "metadata": {},
   "outputs": [
    {
     "data": {
      "text/plain": [
       "[('queen', 0.7118192911148071)]"
      ]
     },
     "execution_count": 19,
     "metadata": {},
     "output_type": "execute_result"
    }
   ],
   "source": [
    "result = model.most_similar(positive=[\"woman\", \"king\"], negative=[\"man\"], topn=1)\n",
    "result"
   ]
  },
  {
   "cell_type": "markdown",
   "metadata": {},
   "source": [
    "# Load Stanford's GloVe Embedding"
   ]
  },
  {
   "cell_type": "markdown",
   "metadata": {},
   "source": [
    "[GloVe website](https://nlp.stanford.edu/projects/glove/)\n",
    "<br>\n",
    "モデルのダイレクトリンク http://nlp.stanford.edu/data/glove.6B.zip"
   ]
  },
  {
   "cell_type": "markdown",
   "metadata": {},
   "source": [
    "___"
   ]
  },
  {
   "cell_type": "markdown",
   "metadata": {},
   "source": [
    "# Word2Vec 実験"
   ]
  },
  {
   "cell_type": "code",
   "execution_count": 62,
   "metadata": {},
   "outputs": [],
   "source": [
    "model = KeyedVectors.load_word2vec_format(\"../models/word2vec/entity_vector/entity_vector.model.bin\", binary=True)"
   ]
  },
  {
   "cell_type": "code",
   "execution_count": 64,
   "metadata": {},
   "outputs": [
    {
     "data": {
      "text/plain": [
       "array([-1.6187377 , -0.8324368 , -0.66008013, -0.48457003,  2.3766062 ,\n",
       "        1.5482706 ,  0.02521008,  2.7541926 , -0.55100775,  1.1902943 ,\n",
       "       -0.8069633 ,  0.70254624, -0.398699  , -0.8449969 , -0.0792968 ,\n",
       "       -0.5108064 , -0.21336758,  1.6489099 ,  0.6194084 , -0.7362365 ,\n",
       "       -2.0948753 ,  1.5503546 ,  1.2423471 , -2.6522083 ,  0.46197012,\n",
       "       -0.08523554,  1.7460564 , -1.2887273 ,  0.1348401 , -2.3276172 ,\n",
       "        1.9938045 , -1.3829435 , -0.73157555,  1.164183  ,  0.304295  ,\n",
       "        0.33067536, -0.5444694 , -1.9755608 , -1.2991182 , -2.1917994 ,\n",
       "        0.06102248,  0.7158423 , -0.61845213,  0.78715485,  1.4645035 ,\n",
       "       -0.6904333 ,  0.4597974 ,  0.5459015 ,  1.7895671 ,  1.7118092 ,\n",
       "       -0.41790563,  1.012607  ,  1.8736218 , -0.36979195,  2.5897005 ,\n",
       "        1.0883368 ,  1.8161975 , -0.28386644,  0.0558899 , -0.5138352 ,\n",
       "        0.2990644 ,  2.3149676 , -0.6824    , -0.8465507 ,  0.25598347,\n",
       "        0.5294194 , -0.15993927,  1.2357309 ,  1.0152076 , -0.6865669 ,\n",
       "        1.5139294 ,  0.05032015, -0.6043269 , -0.12978593,  0.01127237,\n",
       "        0.3985287 ,  1.7795823 , -1.5659288 , -0.38053578,  0.7748996 ,\n",
       "        2.9965012 , -0.10926029, -0.7821412 , -0.778762  , -0.5103493 ,\n",
       "        1.1027943 , -1.7302176 , -0.65122306, -0.04543201,  0.7684825 ,\n",
       "       -1.3084608 ,  1.0811384 ,  0.28157678, -0.5359796 , -2.5845144 ,\n",
       "        1.4132991 , -0.342911  , -0.2665476 ,  2.7667263 , -0.9795002 ,\n",
       "        0.95158076, -0.68937397, -0.2816028 ,  0.6259034 , -1.625523  ,\n",
       "        3.0436122 ,  1.495171  ,  1.0687225 , -0.06853915, -0.37578228,\n",
       "        0.1918549 , -2.4474838 ,  2.0726383 , -0.6842004 , -0.40966427,\n",
       "        1.5794797 , -1.5560081 , -0.890666  ,  1.2401372 ,  0.3418301 ,\n",
       "        1.0717942 ,  2.1137993 , -0.2989982 ,  1.7105874 ,  0.9291506 ,\n",
       "        0.69420815, -0.6168847 , -0.15268248, -0.8119093 ,  0.92285454,\n",
       "        0.3817523 ,  0.12949824,  1.0054799 , -1.242779  ,  0.03959627,\n",
       "       -0.03742306,  2.3545542 ,  0.0905536 ,  1.2799464 , -0.56789905,\n",
       "        0.10034727,  0.15684338, -1.1243505 ,  1.9320946 ,  1.2602527 ,\n",
       "        0.43296716,  0.44916236,  0.7069262 , -0.7849588 ,  3.4706943 ,\n",
       "        1.153397  , -0.9066707 , -0.06648309, -0.8809761 , -2.8203208 ,\n",
       "       -1.5746577 ,  0.38363335, -2.2114768 , -0.30235308, -2.7629602 ,\n",
       "       -0.20676716, -0.35297745, -3.2509384 , -1.4714056 ,  1.0200832 ,\n",
       "       -0.32906133,  2.323717  ,  1.526217  ,  1.8522197 , -0.68859655,\n",
       "       -0.55417454,  1.2306083 ,  0.3787507 ,  0.06207771, -1.1805453 ,\n",
       "        1.7278733 , -0.27604827,  1.136037  , -1.5067255 ,  1.4505258 ,\n",
       "        2.9307427 ,  2.6630385 , -1.3817992 ,  0.4990364 , -1.248954  ,\n",
       "       -1.1613951 ,  2.6144207 , -3.4676363 , -0.36028108,  0.6650645 ,\n",
       "       -1.2774494 ,  0.26133192, -1.2042345 ,  1.0132664 ,  2.076919  ,\n",
       "        1.1037335 ,  0.7976381 , -2.1258867 ,  0.42055127, -1.4611264 ],\n",
       "      dtype=float32)"
      ]
     },
     "execution_count": 64,
     "metadata": {},
     "output_type": "execute_result"
    }
   ],
   "source": [
    "model[\"東京都\"]"
   ]
  },
  {
   "cell_type": "markdown",
   "metadata": {},
   "source": [
    "## 分析対象データ備準"
   ]
  },
  {
   "cell_type": "code",
   "execution_count": 73,
   "metadata": {},
   "outputs": [],
   "source": [
    "sentence = [\"明日\", \"の\", \"天気\", \"は\", \"晴れ\", \"に\", \"なる\", \"でしょう\", \"。\"]\n",
    "sentence_joined = \",\".join(sentence)\n",
    "df = pd.DataFrame({\"sentence\": pd.Series(sentence_joined)})"
   ]
  },
  {
   "cell_type": "code",
   "execution_count": 74,
   "metadata": {},
   "outputs": [
    {
     "data": {
      "text/html": [
       "<div>\n",
       "<style scoped>\n",
       "    .dataframe tbody tr th:only-of-type {\n",
       "        vertical-align: middle;\n",
       "    }\n",
       "\n",
       "    .dataframe tbody tr th {\n",
       "        vertical-align: top;\n",
       "    }\n",
       "\n",
       "    .dataframe thead th {\n",
       "        text-align: right;\n",
       "    }\n",
       "</style>\n",
       "<table border=\"1\" class=\"dataframe\">\n",
       "  <thead>\n",
       "    <tr style=\"text-align: right;\">\n",
       "      <th></th>\n",
       "      <th>sentence</th>\n",
       "    </tr>\n",
       "  </thead>\n",
       "  <tbody>\n",
       "    <tr>\n",
       "      <th>0</th>\n",
       "      <td>明日,の,天気,は,晴れ,に,なる,でしょう,。</td>\n",
       "    </tr>\n",
       "  </tbody>\n",
       "</table>\n",
       "</div>"
      ],
      "text/plain": [
       "                   sentence\n",
       "0  明日,の,天気,は,晴れ,に,なる,でしょう,。"
      ]
     },
     "execution_count": 74,
     "metadata": {},
     "output_type": "execute_result"
    }
   ],
   "source": [
    "df"
   ]
  },
  {
   "cell_type": "markdown",
   "metadata": {},
   "source": [
    "TODO: モデルからベクトル取得する前に前処理が必要\n",
    "\n",
    "- ストップワード削除\n",
    "- 記号削除\n",
    "- 数値削除"
   ]
  },
  {
   "cell_type": "code",
   "execution_count": 83,
   "metadata": {},
   "outputs": [
    {
     "name": "stdout",
     "output_type": "stream",
     "text": [
      "[ 1.7147828  -0.54161114 -0.34410113  0.537136    0.12719876  1.7295846\n",
      "  0.48871598 -0.8915895  -0.5227855  -0.5274245   0.11552778  1.767684\n",
      " -3.012238    1.0509175   0.90188396  0.41489556  1.3997208   0.44270372\n",
      "  0.26299238  1.5585241  -0.5317196   0.93599874  1.6268896  -0.89921105\n",
      "  0.9695547  -0.13983749  0.9616802   0.37713718  0.4600376   1.5310996\n",
      "  0.4334095   0.5319406   2.0033922   2.5988872   2.0942435  -1.1792034\n",
      " -0.08524729 -1.1128007   1.0789026   1.3605558   0.23886676 -0.78911716\n",
      "  1.0189102   1.5159997   1.5207242   2.8302069   0.5015344  -2.606876\n",
      "  0.41844112  0.45793566  0.7292339  -2.3064535  -0.0849894  -1.0468493\n",
      "  2.1778736   0.94242233  1.3773204  -1.2678124   0.8482878   1.1824259\n",
      "  0.09587482  0.8107982   0.66731673 -0.7637525   0.08963525  0.39215493\n",
      " -3.0219183   1.0463899   0.9402149   1.5497792  -1.209483   -2.56283\n",
      "  1.044393    1.3868895  -0.0232537  -0.9594914   1.3671246   1.0382329\n",
      " -1.2433832  -0.9378204  -1.342956    2.7107267   1.0704114   0.84725404\n",
      "  0.5189191   0.35866797  1.7023638   0.11802371  0.21658899  0.5729698\n",
      " -1.50919    -0.35843295  0.10474854  0.60368377  1.0276207  -0.7471137\n",
      "  0.6320064   2.1449647  -2.4859378  -2.2941866  -0.5882265   1.2021103\n",
      "  1.4145534  -1.4694827   0.46671528  1.4896027   0.16092433  2.4222205\n",
      " -1.6389871   0.6048111   2.2732427   1.2559865   0.7261229   0.7805159\n",
      " -0.82833827 -2.2685077  -0.8976796  -0.60196453 -0.0503382   1.1378528\n",
      "  0.5802942  -0.40111125 -0.3777586   0.01208995  0.67281336 -0.8958374\n",
      "  0.5647389   1.6858137  -1.5267137  -2.2187142   1.6801417   0.24059577\n",
      " -0.97532386 -1.9320403   0.6397813   0.6355052  -0.7790795  -0.9561711\n",
      " -0.57871026 -0.1391414   1.9444864   0.40428865  0.6915229   1.896927\n",
      " -0.98290914  0.5151597  -0.48650217  1.9659328  -0.9472866   1.581058\n",
      " -0.28521928 -2.163522    0.0881191  -1.294366   -1.9182035  -0.10803691\n",
      " -0.06218028 -1.5100684  -0.34816015 -0.05903463  1.1926079   0.37434173\n",
      " -0.27638552 -2.5020483   0.7978225  -2.757567   -0.6693922  -0.31425494\n",
      "  1.2831488  -1.3513342   0.3096052   0.20334493  1.4698298  -0.15603486\n",
      "  1.0082397   0.8379983  -0.57578754  0.09511152 -0.579345   -0.1516611\n",
      "  2.5320783  -0.64183694  0.930505    0.12440632 -1.7261602  -2.0902884\n",
      " -0.10160223 -0.10279765  1.2913694   1.4303837   0.2212505   1.3949608\n",
      " -0.7118231   0.27119997 -0.03548775 -1.474685    1.1713554   0.9896904\n",
      " -1.2033616   1.5184472 ]\n",
      "[-9.91739094e-01  4.33873266e-01 -1.63432705e+00 -2.63711929e+00\n",
      "  1.87340975e+00 -6.82320058e-01  1.40024066e+00  2.55516553e+00\n",
      " -2.15050650e+00 -9.30107951e-01 -4.91664827e-01 -9.65239882e-01\n",
      " -2.25033021e+00 -4.79446650e-01  1.27358663e+00 -2.34894287e-02\n",
      "  1.38359773e+00  8.10718000e-01 -2.87942588e-01  3.57353568e-01\n",
      "  9.63935137e-01  1.51740813e+00  1.57587755e+00  2.39189360e-02\n",
      "  1.13024759e+00  4.49263763e+00  9.72327352e-01  7.27772951e-01\n",
      " -1.67395318e+00  1.35944712e+00  1.03268695e+00  2.55958462e+00\n",
      " -1.54859936e+00  1.29370260e+00  1.36028302e+00  2.94609338e-01\n",
      " -3.44111419e+00 -2.51860529e-01  1.01693809e+00 -1.33447099e+00\n",
      "  1.07817149e+00 -6.26900911e-01 -1.83873641e+00 -1.26155031e+00\n",
      " -1.91633224e-01  1.44910109e+00  1.50189626e+00  3.07009745e+00\n",
      " -1.37203526e+00  6.46075964e-01 -9.43559185e-02 -1.01390874e+00\n",
      " -1.77591056e-01  1.10280573e+00 -1.43693015e-01 -4.15952355e-02\n",
      " -1.91089392e+00  6.83979213e-01  6.99588001e-01  4.60736781e-01\n",
      " -1.20045638e+00 -1.19582035e-01  2.21211004e+00 -2.04104200e-01\n",
      " -2.42741489e+00 -1.05933034e+00 -5.96541524e-01  5.20569682e-02\n",
      " -1.45815754e+00  2.06731766e-01  2.11198077e-01 -1.54329753e+00\n",
      " -1.04706025e+00  7.09028780e-01  1.10690105e+00 -1.04306293e+00\n",
      "  5.61356127e-01 -1.04268849e+00  5.54442406e-01 -1.10050988e+00\n",
      "  2.91330576e-01  4.07818079e-01 -3.25946569e+00  2.78824925e+00\n",
      "  4.31403190e-01  6.57912493e-01  3.46873909e-01 -1.33183792e-01\n",
      " -1.07081378e+00 -1.48032868e+00  2.39652014e+00  1.40677321e+00\n",
      "  8.77775252e-01 -1.46444666e+00 -2.17234701e-01  1.33428299e+00\n",
      "  2.76269269e+00 -2.06182316e-01 -9.47700262e-01  1.82607639e+00\n",
      "  1.18650413e+00  8.76882195e-01 -1.18847167e+00 -1.13045061e+00\n",
      "  4.91435498e-01 -3.72712231e+00  7.25480676e-01  7.33797908e-01\n",
      " -2.24650598e+00 -1.02531052e+00 -2.09856289e-03  2.97558367e-01\n",
      "  5.49922287e-01 -2.27969623e+00 -8.63162041e-01  1.85353398e+00\n",
      "  4.79005247e-01  4.73207049e-02 -1.95502365e+00  2.34434247e+00\n",
      "  6.55885577e-01  1.43115616e+00  9.20615904e-03  2.44842216e-01\n",
      " -6.60214186e-01  5.81539631e-01  2.02502608e-01  3.09414994e-02\n",
      " -1.45141935e+00 -8.31756532e-01  1.83826470e+00 -1.32279098e+00\n",
      "  2.74178290e+00 -6.24502122e-01 -3.62794012e-01 -6.81043923e-01\n",
      "  3.02170545e-01  7.91179478e-01  5.12779415e-01 -5.99856317e-01\n",
      " -2.71644503e-01  2.57124186e-01  1.14002502e+00  2.07948065e+00\n",
      "  1.20077395e+00  7.76676714e-01 -3.57633591e-01 -5.52847981e-01\n",
      " -1.61544472e-01 -2.60297209e-01 -1.57741225e+00 -2.85870528e+00\n",
      " -4.12865019e+00  1.08391869e+00  5.23822665e-01 -2.26999596e-01\n",
      " -1.83952785e+00  7.48104036e-01  1.92791447e-01  8.87145698e-01\n",
      "  1.91601157e+00  3.87349308e-01  2.13912177e+00  2.57948369e-01\n",
      "  1.23664951e+00  9.40032482e-01 -2.47545600e+00  1.87782526e+00\n",
      "  1.75042439e+00  1.34158170e+00 -1.18189776e+00 -1.25004756e+00\n",
      "  1.04559310e-01 -2.14681938e-01  1.52913988e+00  2.35386205e+00\n",
      "  1.08049536e+00  1.21130884e+00  7.22399771e-01  7.69134521e-01\n",
      "  7.16770947e-01  5.31373560e-01 -1.41201913e-01  9.87679422e-01\n",
      " -1.74677300e+00 -2.99685925e-01 -7.43765414e-01  1.19064212e+00\n",
      "  8.86784673e-01  1.29854769e-01 -1.20632732e+00  9.12506640e-01\n",
      " -4.49424922e-01 -6.85021996e-01 -6.77024052e-02 -4.39921141e-01\n",
      " -1.82331324e+00 -5.82093000e-01 -2.89067209e-01 -9.53113735e-01]\n",
      "[ 1.1072366  -0.2390488  -1.6718366  -3.972939    2.0000713   1.7680297\n",
      "  2.032524   -3.2407367  -1.5347735   0.8578676  -1.4460285  -0.03849115\n",
      " -3.158184    0.18611422  0.52984244 -1.6924014   0.36477447 -0.77833664\n",
      " -0.09790963 -1.3165032  -0.9787985  -1.8980247  -0.43613142 -1.397503\n",
      " -0.78797805  0.1906634   1.2989371   1.2178986  -2.0013459   0.4650149\n",
      "  0.8733632   1.0948162  -0.20042512 -1.5701405   0.59887385 -1.2659954\n",
      " -3.6464381  -0.7175925   3.3895955   0.152649   -1.4389602  -3.3283875\n",
      "  2.2923305  -1.873919    1.7569208   1.7605448   1.8472699  -1.0843223\n",
      " -1.0887998  -0.9137253   0.27015108 -1.8962268   0.2122712  -0.4077507\n",
      "  2.0497992  -0.8282223   0.02191543 -0.19758624 -0.79121816  1.6415305\n",
      " -0.6109024   0.801745   -1.2926413  -0.9854073  -1.6925035   1.5735903\n",
      " -1.2493446  -1.5641564   1.1020823   0.6080372  -0.5474016  -1.2420204\n",
      "  0.77579564 -0.5040168  -0.8423872  -0.4006147   1.9041083  -2.630511\n",
      " -0.7065989  -0.38724983  0.9088658   4.152143   -0.5751756   2.250944\n",
      "  0.3049348   1.9508861   1.3841314  -0.38335082  0.7196826  -1.4425511\n",
      "  0.47098026 -0.3184676  -0.44968504 -1.5543479  -0.95350486  1.1042372\n",
      "  1.629253   -0.42727053 -2.3543634  -2.4584692   0.6824138   0.40548563\n",
      "  1.2555845  -1.6100615  -0.51743144 -0.88213295  0.5959402   2.3794625\n",
      " -1.6405516   0.66860497 -0.42281705  3.2041292   0.26657107  3.492857\n",
      "  2.65763    -1.768258    0.9033991  -1.5852482  -1.1521703   1.5603557\n",
      "  1.9056581   0.6639571  -1.0506144   1.1318749  -0.3590762   0.29325306\n",
      " -0.2363869  -1.0849391  -2.0881464  -1.9327474  -0.25346866 -0.09006808\n",
      "  1.6921213  -2.104509   -1.0896174  -1.6289675  -1.455743   -0.04526175\n",
      " -0.19568487 -0.34817725  1.9335312   3.3804867  -1.459423    1.0426432\n",
      "  0.82412225 -0.64530635  0.21031757 -0.69650817  1.0476416   2.0465837\n",
      " -0.03340708 -3.2670147   0.9109921  -1.3267251  -2.415357    0.75856423\n",
      "  0.4355275  -1.5085675   0.702238   -0.15533009 -0.00515832  2.4227958\n",
      "  0.01172598 -1.3155634   0.15042824 -0.502839    1.8937129   0.71646816\n",
      "  1.5017065  -1.1507473   0.81933683 -1.0949568   1.014899    0.8349378\n",
      "  0.4312477   0.24063571  2.484531   -0.86295694 -0.7054366   0.02848949\n",
      "  1.2091001   1.183562    0.73126453 -0.17808941 -0.9423454  -0.73797166\n",
      " -1.7009825  -0.45683077 -0.87809384 -0.9619152   2.8670003   3.2426593\n",
      " -1.4486295   0.76655567 -0.0058302  -0.6943174   0.6837665  -1.2590297\n",
      " -1.2036994   2.3981056 ]\n",
      "[ 0.86032313  0.36429858 -1.3380883  -2.2407708   1.2695055  -0.61297685\n",
      "  1.435673    2.926266   -1.7391875   0.03343233  0.0571198   0.06422204\n",
      " -1.6153846   2.4275136   0.6398755  -1.2132454   0.7983484   0.5823064\n",
      "  1.5570194   0.9870303  -0.7142211   1.0450714   0.7730691   1.1589038\n",
      "  0.1550344   3.7128875   1.5309558   1.0049586  -1.9694571   1.2626455\n",
      "  0.14390036  0.7983603  -0.36654428  1.753224    0.95078737 -1.0098358\n",
      " -2.7997115   0.9646647   2.2851744   0.14360204 -0.26222414  0.05691097\n",
      " -0.3279558  -2.218715   -0.45785362  3.2882657   0.35064518  2.4569197\n",
      "  0.07096688  1.1487967   0.19862825 -1.1880698   1.495424    2.0709631\n",
      " -0.9049425  -0.0576032  -1.31744     3.889416   -0.54340667  2.2708132\n",
      " -1.6745796  -0.41049388  2.020912   -1.5123242  -2.2517312  -1.7263095\n",
      "  0.48404506 -0.1484104   0.6524419  -1.6677827   1.1298348  -1.4092778\n",
      " -1.8868556   0.41568545  0.39678717 -0.32441926 -0.3228898  -0.70569485\n",
      "  0.73590475 -2.0238752   0.02486207 -0.7832653  -1.9046563   3.9396493\n",
      "  2.6114032   1.7500473  -1.085472   -0.894123   -1.2328584  -0.47920197\n",
      "  2.2274225   1.3592478   0.7189491  -0.34610575 -1.269225    0.53879046\n",
      "  0.131535    0.24949099 -1.3712952   0.87397623  0.6990347   1.4105213\n",
      " -1.5576259  -0.49126843  0.45779917 -2.406719    0.64523065 -0.19606595\n",
      " -1.9542412   0.209034   -0.60081095  0.4049992   0.9079383   0.218638\n",
      " -0.5827936   0.19119671  0.07113671 -1.273617   -1.6960012  -0.22211263\n",
      "  1.5025108   1.0271083  -0.799075   -0.25726157 -0.49126697  0.3927333\n",
      "  0.18461423 -0.28403717 -2.1320958  -1.5135883  -0.04969799 -1.4454178\n",
      "  0.32234257 -0.03209381 -1.0742033   0.14112456  0.6503226   0.12128121\n",
      " -0.3218278  -0.45403296 -1.2572678   0.38928196 -1.4524322   0.21981671\n",
      "  1.3393909   0.6842446  -0.47474545  1.2819692   0.39980865 -1.5507472\n",
      " -0.60327023 -3.3247306  -1.9830694   1.3355218  -0.9771239  -1.6631626\n",
      " -1.8869507   0.01388041  0.23752055  1.235464    0.78055024 -0.96674144\n",
      "  4.162007   -1.7912493  -0.7100114  -0.23983692 -1.713317    0.903938\n",
      " -0.04301581  0.09940847 -1.7619697  -1.6923405  -1.0358514   1.1373022\n",
      "  2.385907    1.7139553   0.7494964   2.4899023   0.09088142  0.43707633\n",
      " -0.3121037   0.01640285 -2.6631854   0.40447325 -0.75521153 -2.4316695\n",
      "  0.31899592  0.41547516  0.56508464  0.1179874  -0.18026282 -1.0149509\n",
      " -0.67190474 -1.3180188  -0.8984222   0.15042703 -2.0649369  -0.40420222\n",
      "  1.1210107  -0.4190195 ]\n",
      "[ 2.7286961e+00  1.1331676e+00 -8.8738090e-01 -1.0663927e+00\n",
      "  1.1458462e+00  3.6963124e-02  1.4409064e+00 -2.9189417e+00\n",
      " -7.6877517e-01 -1.3593131e+00 -6.5500021e-01  5.2952206e-01\n",
      " -2.0550499e+00 -9.5738572e-01 -3.3856950e+00 -5.0877810e-01\n",
      " -2.9417074e-01 -8.3624649e-01  6.6357630e-01 -8.3711100e-01\n",
      " -2.2464590e+00  6.3216680e-01  2.6813936e-01  2.0568895e-01\n",
      "  3.0352002e-01 -5.2790809e-01  2.7750173e+00 -6.4704850e-02\n",
      "  3.5615355e-01  1.4584057e+00  3.7872827e-01  1.5556188e+00\n",
      " -8.6420171e-02 -7.9675645e-01  2.1428375e-01 -1.5235667e+00\n",
      " -1.9975134e+00 -3.6066869e-01  2.6178987e+00 -5.8282763e-01\n",
      "  7.0601463e-01 -2.6058118e+00  2.6227419e+00 -2.5676855e-01\n",
      "  1.5551286e+00  8.9712930e-01  6.8484657e-02 -2.3837831e+00\n",
      " -2.1814102e-01 -1.6184089e+00  1.4835737e+00 -1.0448042e+00\n",
      "  1.8604579e+00  2.4132392e-01  2.8439875e+00  6.5278059e-01\n",
      "  3.5931592e+00  2.3852520e-01  3.9909092e-01  4.0231112e-01\n",
      "  2.5582990e-01  2.7466697e-01  2.2133559e-01 -4.9103275e-02\n",
      "  1.4312727e+00  6.5002418e-01  5.0831670e-01  1.0844569e-01\n",
      " -6.0860837e-01 -3.9793828e-01  1.3122060e+00 -1.9670882e+00\n",
      " -1.0733007e+00  1.7419541e+00  1.0075552e+00  8.4403288e-01\n",
      "  8.8829774e-01 -1.5631365e+00 -5.2629995e-01 -1.4596404e+00\n",
      " -5.9610957e-01  3.1867218e+00  1.3333748e-01  1.5965401e+00\n",
      " -9.8712645e-02  1.7867210e+00  1.9594364e-01  3.5400147e-04\n",
      "  3.6203808e-01 -2.4851577e-01  3.4181488e-01  1.1932539e+00\n",
      " -9.6049148e-01 -1.1206644e+00 -6.6435868e-01 -9.4358289e-01\n",
      " -1.0644438e+00  6.4239062e-02 -6.0016024e-01 -1.3285612e+00\n",
      " -3.2107546e+00 -3.4418240e-01  5.5469644e-01 -4.0254526e-02\n",
      " -1.5791548e+00  1.4917713e+00  1.1241513e+00  2.0049484e+00\n",
      " -1.6065588e-02 -1.6164371e+00  3.2688391e-01  2.0617688e+00\n",
      "  1.3913792e-01  2.9552686e+00  6.5736556e-01 -1.8475071e+00\n",
      "  5.5732387e-01  1.3242777e-01 -6.4999425e-01  7.8554589e-01\n",
      "  8.9663565e-01 -1.6410513e-01 -3.0525964e-01  5.2218372e-01\n",
      "  2.1214685e-01 -1.0581442e+00  1.5961052e+00 -3.6937079e-01\n",
      " -1.7346275e+00 -2.6223931e+00 -2.5407588e-02  6.6659945e-01\n",
      " -3.6971021e-01 -1.2653356e+00 -5.4031432e-01  5.5691653e-01\n",
      " -8.1533271e-01  1.9282087e+00  9.0789247e-01 -3.1212810e-01\n",
      "  1.0162078e+00  2.4401910e+00  2.6733806e+00  6.1663777e-01\n",
      "  1.3871031e-01 -1.8598880e-01 -1.2283859e+00  1.7527391e-01\n",
      " -1.5319600e+00  2.2669041e+00 -8.6622584e-01 -2.2361798e+00\n",
      "  1.0064961e+00  8.0659866e-01  2.0642555e-01  4.4573653e-01\n",
      "  1.1024009e-01  1.5378430e+00  1.2727964e+00  1.9156036e+00\n",
      "  3.0437615e-02  2.4944277e-01 -5.8265972e-01 -1.8752162e+00\n",
      "  2.8543070e-01 -3.3007804e-01  8.9999628e-01 -1.2896857e+00\n",
      "  1.9422530e+00 -2.5323406e-01 -1.3983576e+00 -9.2939168e-01\n",
      "  2.6940911e+00  1.7701930e-01 -1.3984041e-02 -7.0421022e-01\n",
      " -2.1902907e-01  1.1421876e+00 -5.4920858e-01  1.6573888e-01\n",
      " -2.5532341e-01  2.2950885e+00 -2.3996297e-01 -6.0297751e-01\n",
      " -8.8705844e-01 -1.5268961e+00 -1.2555529e+00  3.0127215e+00\n",
      "  1.2492955e+00 -3.2185170e-01  1.2117028e+00  1.4757873e+00\n",
      " -2.3313167e+00  7.6059562e-01 -1.3706089e+00 -1.5872101e+00\n",
      "  9.5914096e-01 -9.2642236e-01 -1.0482645e+00  2.1038632e+00]\n",
      "[ 1.5705395   0.39459696 -2.4453218  -2.8953583   1.7025797  -0.22968923\n",
      "  0.4354823   3.5486214  -1.6192622  -1.1397252   1.5352769  -0.4940855\n",
      " -1.1860255   0.06371082 -0.39832947 -1.0074509   0.8403676  -0.30522776\n",
      "  0.40784305 -0.7511471  -1.0435246   1.3775676  -0.6529282   1.6571598\n",
      "  1.7868457   3.4360907   0.20444238  0.25618857 -3.7540789   1.1733114\n",
      " -0.12773433 -1.5414174   0.05366721  1.0249763   2.2891045   0.51409775\n",
      " -1.7774373   0.62187356  1.5032617  -2.1019857  -0.31533232 -1.3676056\n",
      " -2.3881977  -2.2945187   0.2005425   2.3965318  -0.04369316  3.261632\n",
      " -0.9644127   1.007924    1.4830127   1.7298626   3.0928452  -1.3687196\n",
      " -1.2915099  -2.0788662  -0.88422644  2.0927687   0.65346605 -0.68556243\n",
      " -2.3051546  -0.92916363  2.2306118  -2.1974165  -2.7479787  -0.8090515\n",
      "  0.19388436  0.24685758 -0.0498413   0.68924063  0.42586258 -1.770226\n",
      " -1.1285088  -1.7676444   2.1033928   1.0724893   0.20600086 -1.5356709\n",
      "  1.0928023  -1.2191907  -1.232643    0.69263715 -1.1532007   2.3121738\n",
      "  2.1515548   1.01805     0.54594594 -1.0474147  -2.4269788   0.16362691\n",
      "  2.598108    1.007154    1.3977453  -1.4610636   0.8538858   1.2888598\n",
      "  2.103155   -0.52139986 -1.1570133  -0.08247079 -1.0219535   0.18760444\n",
      " -2.1131544  -1.4252433  -2.6738174  -2.1269534   1.3658038   2.882006\n",
      " -2.3556879  -0.8138433   0.39333728  1.1028568   2.6158268  -1.1572385\n",
      " -2.9028597  -0.28999126  1.1931416   0.16449225 -2.6452966   2.5317795\n",
      "  0.84434354  1.6545035   2.733048    1.5400832  -0.41879743  0.24278373\n",
      "  0.5216864  -0.5283044   0.6729951  -0.01046334  1.7869282   1.9411757\n",
      "  3.309681   -2.5598087  -0.14509326 -0.6421927   0.37101763  2.0530572\n",
      "  0.62854147  1.2764591   0.24500167  1.6380848  -0.32974368  0.6496757\n",
      "  0.357144   -0.1997867   0.608279    1.8097681  -2.4145267   1.230438\n",
      "  1.7532053  -2.5148478  -2.5116475   3.4078717  -0.03813148 -0.23537178\n",
      " -0.28166834 -2.443618   -0.7904007   1.1492782   0.2070895  -0.2101705\n",
      "  4.6484194  -0.18129097  1.3195941  -1.741992   -0.75898653  2.0738876\n",
      "  0.66383666  1.6615914  -1.1893727  -2.2508717  -0.4361284  -1.2065398\n",
      "  4.0332108   0.29443055 -0.3697826   0.7551965  -0.65429115 -0.5675806\n",
      "  0.87192696  1.76824    -2.033403   -0.6744952   0.73088    -0.5315504\n",
      "  0.2634066   0.42711264 -1.5055412  -0.647174   -1.892468    2.4381614\n",
      "  1.5066696   0.25584725  0.05340774  0.5235845  -3.1220639   1.7118553\n",
      "  0.8726387   0.79517895]\n",
      "[ 6.8874657e-01  1.4979723e-01  1.4807560e-01 -2.9359438e+00\n",
      "  1.1382896e+00 -2.0168724e+00 -1.9656426e+00  1.0835927e+00\n",
      "  1.6051577e+00  2.5699365e+00  5.6402880e-01 -9.6623909e-01\n",
      " -8.3242631e-01  3.3656688e+00 -6.3559163e-01  1.2141088e+00\n",
      " -1.1435097e-02  2.3786730e-01 -3.8177090e+00  1.0850669e+00\n",
      "  1.9042403e+00  2.4137633e+00 -4.5920035e-01  9.3546414e-01\n",
      " -1.5236626e+00  7.0081681e-01  4.6180906e+00  2.8441482e+00\n",
      " -3.8165092e+00 -8.8501638e-01 -1.9726077e-01  8.8372433e-01\n",
      " -3.7168179e+00  2.2071154e+00  1.6580939e+00 -8.5971725e-01\n",
      " -5.9964128e+00  8.3116317e-01 -1.2813097e-01 -1.7245302e+00\n",
      "  2.9340208e+00  8.6332075e-02 -2.9193676e-01  9.4335794e-01\n",
      " -1.1689047e+00  1.2873884e-01 -1.8276291e+00  1.8761070e+00\n",
      "  6.3327795e-01 -3.8650516e-01  2.1233909e+00  2.5573282e+00\n",
      " -5.4287577e-01  4.9026709e+00  2.7880616e+00  7.5670695e-01\n",
      "  2.0631690e+00  1.0730307e+00  1.3809234e+00  1.2675360e+00\n",
      " -1.5671041e+00  1.2517242e+00 -2.9928932e+00 -1.4057209e+00\n",
      " -9.9997902e-01 -2.1743903e-01 -1.5617524e+00  8.7827998e-01\n",
      " -2.3302343e+00  9.9663955e-01  5.2472744e+00 -8.2902616e-01\n",
      "  1.4334999e-01 -6.9544482e-01 -2.6359284e+00 -4.1889663e+00\n",
      "  3.0367935e+00  2.3199260e-01  4.7368989e+00 -6.7262128e-02\n",
      " -4.1868031e-01  2.4729073e+00 -1.1098425e+00  4.2569485e+00\n",
      " -1.1954491e+00  1.4473732e+00  4.1767449e+00 -8.8237368e-02\n",
      " -2.1891565e+00 -5.9742504e-01  1.4448106e+00  2.7969566e-01\n",
      " -1.2121909e-01 -1.0710385e+00  3.2053506e+00  1.2684711e+00\n",
      "  1.3997177e+00  1.3098934e+00  3.2852161e-01  6.5789139e-01\n",
      "  3.0369601e+00  1.6891211e-01 -4.7036436e-01 -2.5549366e+00\n",
      "  5.3102751e+00 -4.4006556e-01 -1.0269526e+00  2.5023236e+00\n",
      "  5.1067513e-01  1.5688194e+00  1.6425154e+00  9.9427146e-01\n",
      " -1.6307151e+00 -1.9798547e+00 -6.7704129e-03 -1.5029491e+00\n",
      " -1.2304524e+00  9.6948981e-01 -5.5407661e-01 -4.9138883e-01\n",
      "  9.9698168e-01 -1.7958399e+00 -4.2096654e-01 -9.3565601e-01\n",
      " -2.8512031e-01 -1.1064160e+00 -7.2678274e-01 -3.4029005e+00\n",
      "  3.8049560e+00 -1.8883650e+00  2.1042488e+00 -6.7981410e+00\n",
      "  1.4852127e+00  1.5319847e-01  1.3265023e+00  6.7183316e-01\n",
      "  1.3085949e+00 -2.2498343e+00 -2.6161382e+00 -1.3329957e+00\n",
      " -1.9206233e+00 -5.8449084e-01 -8.2044043e-02  1.3100784e+00\n",
      "  1.4384421e+00 -1.5349346e+00  3.5081849e-01 -3.0447674e+00\n",
      " -3.4649439e+00 -3.1423705e+00 -2.3402166e+00 -1.6329851e+00\n",
      " -2.6724696e+00 -5.0544062e+00  1.5330167e+00 -1.6124270e+00\n",
      "  3.7312551e+00 -2.8225865e+00 -2.7407467e+00 -4.3566346e+00\n",
      " -1.2113559e+00  1.8229315e+00  2.2064772e+00 -3.3748047e+00\n",
      " -1.2215811e+00  3.2383823e+00 -3.7112136e+00 -1.2743700e+00\n",
      " -4.0914930e-02  5.1176200e+00 -2.7968903e+00  2.0033031e+00\n",
      "  6.2367219e-01 -5.9053934e-01  8.6598295e-01  1.0365566e+00\n",
      " -1.9586900e+00 -1.9005896e+00  2.5927486e+00  2.2554595e+00\n",
      "  1.8968246e+00  1.5300326e+00  8.5518348e-01 -9.7000480e-02\n",
      " -1.2031484e+00  5.5768341e-01 -5.3416257e+00 -5.9145761e-01\n",
      "  6.2846529e-01 -1.5371913e+00 -1.7733439e+00  2.6868913e+00\n",
      "  1.6028309e+00  4.0606036e+00 -1.5330994e+00  1.2745190e-01\n",
      "  2.2414479e+00 -1.5879564e+00 -1.5316108e+00 -3.5882810e-01]\n"
     ]
    },
    {
     "ename": "KeyError",
     "evalue": "\"word 'でしょう' not in vocabulary\"",
     "output_type": "error",
     "traceback": [
      "\u001b[0;31m---------------------------------------------------------------------------\u001b[0m",
      "\u001b[0;31mKeyError\u001b[0m                                  Traceback (most recent call last)",
      "\u001b[0;32m<ipython-input-83-bef5ba1dc66a>\u001b[0m in \u001b[0;36m<module>\u001b[0;34m()\u001b[0m\n\u001b[1;32m      1\u001b[0m \u001b[0;32mfor\u001b[0m \u001b[0mline\u001b[0m \u001b[0;32min\u001b[0m \u001b[0mdf\u001b[0m\u001b[0;34m[\u001b[0m\u001b[0;34m\"sentence\"\u001b[0m\u001b[0;34m]\u001b[0m\u001b[0;34m:\u001b[0m\u001b[0;34m\u001b[0m\u001b[0m\n\u001b[1;32m      2\u001b[0m     \u001b[0;32mfor\u001b[0m \u001b[0mw\u001b[0m \u001b[0;32min\u001b[0m \u001b[0mline\u001b[0m\u001b[0;34m.\u001b[0m\u001b[0msplit\u001b[0m\u001b[0;34m(\u001b[0m\u001b[0;34m\",\"\u001b[0m\u001b[0;34m)\u001b[0m\u001b[0;34m:\u001b[0m\u001b[0;34m\u001b[0m\u001b[0m\n\u001b[0;32m----> 3\u001b[0;31m         \u001b[0mwv\u001b[0m \u001b[0;34m=\u001b[0m \u001b[0mmodel\u001b[0m\u001b[0;34m[\u001b[0m\u001b[0mw\u001b[0m\u001b[0;34m]\u001b[0m\u001b[0;34m\u001b[0m\u001b[0m\n\u001b[0m\u001b[1;32m      4\u001b[0m         \u001b[0mprint\u001b[0m\u001b[0;34m(\u001b[0m\u001b[0mwv\u001b[0m\u001b[0;34m)\u001b[0m\u001b[0;34m\u001b[0m\u001b[0m\n",
      "\u001b[0;32m~/.local/share/virtualenvs/ml_sandbox-lOa-DOdU/lib/python3.6/site-packages/gensim/models/keyedvectors.py\u001b[0m in \u001b[0;36m__getitem__\u001b[0;34m(self, entities)\u001b[0m\n\u001b[1;32m    334\u001b[0m         \u001b[0;32mif\u001b[0m \u001b[0misinstance\u001b[0m\u001b[0;34m(\u001b[0m\u001b[0mentities\u001b[0m\u001b[0;34m,\u001b[0m \u001b[0mstring_types\u001b[0m\u001b[0;34m)\u001b[0m\u001b[0;34m:\u001b[0m\u001b[0;34m\u001b[0m\u001b[0m\n\u001b[1;32m    335\u001b[0m             \u001b[0;31m# allow calls like trained_model['office'], as a shorthand for trained_model[['office']]\u001b[0m\u001b[0;34m\u001b[0m\u001b[0;34m\u001b[0m\u001b[0m\n\u001b[0;32m--> 336\u001b[0;31m             \u001b[0;32mreturn\u001b[0m \u001b[0mself\u001b[0m\u001b[0;34m.\u001b[0m\u001b[0mget_vector\u001b[0m\u001b[0;34m(\u001b[0m\u001b[0mentities\u001b[0m\u001b[0;34m)\u001b[0m\u001b[0;34m\u001b[0m\u001b[0m\n\u001b[0m\u001b[1;32m    337\u001b[0m \u001b[0;34m\u001b[0m\u001b[0m\n\u001b[1;32m    338\u001b[0m         \u001b[0;32mreturn\u001b[0m \u001b[0mvstack\u001b[0m\u001b[0;34m(\u001b[0m\u001b[0;34m[\u001b[0m\u001b[0mself\u001b[0m\u001b[0;34m.\u001b[0m\u001b[0mget_vector\u001b[0m\u001b[0;34m(\u001b[0m\u001b[0mentity\u001b[0m\u001b[0;34m)\u001b[0m \u001b[0;32mfor\u001b[0m \u001b[0mentity\u001b[0m \u001b[0;32min\u001b[0m \u001b[0mentities\u001b[0m\u001b[0;34m]\u001b[0m\u001b[0;34m)\u001b[0m\u001b[0;34m\u001b[0m\u001b[0m\n",
      "\u001b[0;32m~/.local/share/virtualenvs/ml_sandbox-lOa-DOdU/lib/python3.6/site-packages/gensim/models/keyedvectors.py\u001b[0m in \u001b[0;36mget_vector\u001b[0;34m(self, word)\u001b[0m\n\u001b[1;32m    452\u001b[0m \u001b[0;34m\u001b[0m\u001b[0m\n\u001b[1;32m    453\u001b[0m     \u001b[0;32mdef\u001b[0m \u001b[0mget_vector\u001b[0m\u001b[0;34m(\u001b[0m\u001b[0mself\u001b[0m\u001b[0;34m,\u001b[0m \u001b[0mword\u001b[0m\u001b[0;34m)\u001b[0m\u001b[0;34m:\u001b[0m\u001b[0;34m\u001b[0m\u001b[0m\n\u001b[0;32m--> 454\u001b[0;31m         \u001b[0;32mreturn\u001b[0m \u001b[0mself\u001b[0m\u001b[0;34m.\u001b[0m\u001b[0mword_vec\u001b[0m\u001b[0;34m(\u001b[0m\u001b[0mword\u001b[0m\u001b[0;34m)\u001b[0m\u001b[0;34m\u001b[0m\u001b[0m\n\u001b[0m\u001b[1;32m    455\u001b[0m \u001b[0;34m\u001b[0m\u001b[0m\n\u001b[1;32m    456\u001b[0m     \u001b[0;32mdef\u001b[0m \u001b[0mwords_closer_than\u001b[0m\u001b[0;34m(\u001b[0m\u001b[0mself\u001b[0m\u001b[0;34m,\u001b[0m \u001b[0mw1\u001b[0m\u001b[0;34m,\u001b[0m \u001b[0mw2\u001b[0m\u001b[0;34m)\u001b[0m\u001b[0;34m:\u001b[0m\u001b[0;34m\u001b[0m\u001b[0m\n",
      "\u001b[0;32m~/.local/share/virtualenvs/ml_sandbox-lOa-DOdU/lib/python3.6/site-packages/gensim/models/keyedvectors.py\u001b[0m in \u001b[0;36mword_vec\u001b[0;34m(self, word, use_norm)\u001b[0m\n\u001b[1;32m    449\u001b[0m             \u001b[0;32mreturn\u001b[0m \u001b[0mresult\u001b[0m\u001b[0;34m\u001b[0m\u001b[0m\n\u001b[1;32m    450\u001b[0m         \u001b[0;32melse\u001b[0m\u001b[0;34m:\u001b[0m\u001b[0;34m\u001b[0m\u001b[0m\n\u001b[0;32m--> 451\u001b[0;31m             \u001b[0;32mraise\u001b[0m \u001b[0mKeyError\u001b[0m\u001b[0;34m(\u001b[0m\u001b[0;34m\"word '%s' not in vocabulary\"\u001b[0m \u001b[0;34m%\u001b[0m \u001b[0mword\u001b[0m\u001b[0;34m)\u001b[0m\u001b[0;34m\u001b[0m\u001b[0m\n\u001b[0m\u001b[1;32m    452\u001b[0m \u001b[0;34m\u001b[0m\u001b[0m\n\u001b[1;32m    453\u001b[0m     \u001b[0;32mdef\u001b[0m \u001b[0mget_vector\u001b[0m\u001b[0;34m(\u001b[0m\u001b[0mself\u001b[0m\u001b[0;34m,\u001b[0m \u001b[0mword\u001b[0m\u001b[0;34m)\u001b[0m\u001b[0;34m:\u001b[0m\u001b[0;34m\u001b[0m\u001b[0m\n",
      "\u001b[0;31mKeyError\u001b[0m: \"word 'でしょう' not in vocabulary\""
     ]
    }
   ],
   "source": [
    "for line in df[\"sentence\"]:\n",
    "    for w in line.split(\",\"):\n",
    "        wv = model[w]\n",
    "        print(wv)"
   ]
  },
  {
   "cell_type": "code",
   "execution_count": null,
   "metadata": {},
   "outputs": [],
   "source": []
  }
 ],
 "metadata": {
  "kernelspec": {
   "display_name": "Python 3",
   "language": "python",
   "name": "python3"
  },
  "language_info": {
   "codemirror_mode": {
    "name": "ipython",
    "version": 3
   },
   "file_extension": ".py",
   "mimetype": "text/x-python",
   "name": "python",
   "nbconvert_exporter": "python",
   "pygments_lexer": "ipython3",
   "version": "3.6.6"
  }
 },
 "nbformat": 4,
 "nbformat_minor": 2
}
